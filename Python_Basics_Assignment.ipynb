{
  "nbformat": 4,
  "nbformat_minor": 0,
  "metadata": {
    "colab": {
      "provenance": []
    },
    "kernelspec": {
      "name": "python3",
      "display_name": "Python 3"
    },
    "language_info": {
      "name": "python"
    }
  },
  "cells": [
    {
      "cell_type": "markdown",
      "source": [
        "**Python Basics-**\n",
        "\n",
        "***Theoritical Questions***\n",
        "\n",
        "### 1. **What is Python, and why is it popular?**\n",
        "\n",
        "**Ans-**\n",
        "\n",
        "   Python is a high-level, interpreted programming language known for its simplicity and readability. It emphasizes code readability, using indentation to define code blocks instead of curly braces or keywords. Python is versatile, with a wide range of applications in web development, data analysis, artificial intelligence, machine learning, automation, and more. It’s popular because it’s easy to learn, has a large community, and extensive libraries, making development faster and more efficient.\n",
        "\n",
        "### 2. **What is an interpreter in Python?**\n",
        "\n",
        "**Ans-**\n",
        "\n",
        "   An interpreter in Python is a program that reads and executes Python code line by line. Unlike compiled languages that convert source code into machine code all at once, Python executes the code directly, which makes debugging easier but may also be slower than compiled languages.\n",
        "\n",
        "### 3. **What are pre-defined keywords in Python?**\n",
        "\n",
        "**Ans-**\n",
        "\n",
        "   Pre-defined keywords in Python are reserved words that the language uses for its syntax and structure. These keywords have specific meanings and cannot be used as identifiers (such as variable names). Examples include `if`, `else`, `for`, `while`, `try`, `import`, `def`, and `class`.\n",
        "\n",
        "### 4. **Can keywords be used as variable names?**\n",
        "\n",
        "**Ans-**\n",
        "\n",
        "   No, keywords cannot be used as variable names in Python. Since they are reserved for specific purposes within the language syntax, using them as variables would lead to syntax errors.\n",
        "\n",
        "### 5. **What is mutability in Python?**\n",
        "\n",
        "**Ans-**\n",
        "\n",
        "   Mutability refers to whether an object’s state or contents can be changed after it is created. If an object is mutable, its contents can be altered. If it is immutable, its contents cannot be changed after creation.\n",
        "\n",
        "### 6. **Why are lists mutable, but tuples are immutable?**\n",
        "\n",
        "**Ans-**\n",
        "\n",
        "   Lists in Python are mutable, meaning you can change their contents (e.g., add, remove, or modify items). Tuples, on the other hand, are immutable, meaning once they are created, their contents cannot be modified. This distinction exists because lists are designed for situations where you need to change the data, while tuples are typically used for fixed, unchangeable collections of data.\n",
        "\n",
        "### 7. **What is the difference between “==” and “is” operators in Python?**\n",
        "\n",
        "**Ans-**\n",
        "\n",
        "   - `==`: Checks if the values of two objects are equal. It compares the content or value.\n",
        "   - `is`: Checks if two references point to the same object in memory. It checks for object identity, not equality of values.\n",
        "\n",
        "### 8. **What are logical operators in Python?**\n",
        "\n",
        "**Ans-**\n",
        "\n",
        "   Logical operators are used to combine conditional statements. They are:\n",
        "   - `and`: Returns `True` if both conditions are true.\n",
        "   - `or`: Returns `True` if at least one condition is true.\n",
        "   - `not`: Reverses the logical state of its operand.\n",
        "\n",
        "### 9. **What is type casting in Python?**\n",
        "\n",
        "**Ans-**\n",
        "\n",
        "   Type casting is the process of converting one data type into another. For example, converting a string to an integer or a float to an integer. Python provides built-in functions like `int()`, `float()`, and `str()` to perform type casting.\n",
        "\n",
        "### 10. **What is the difference between implicit and explicit type casting?**\n",
        "\n",
        "**Ans-**\n",
        "\n",
        "   - **Implicit type casting** (also called type coercion) happens automatically by Python, where it converts one data type to another when necessary. For example, adding an integer and a float results in a float automatically.\n",
        "   - **Explicit type casting** happens when you manually convert a data type using functions like `int()`, `float()`, or `str()`.\n",
        "\n",
        "### 11. **What is the purpose of conditional statements in Python?**\n",
        "\n",
        "**Ans-**\n",
        "\n",
        "   Conditional statements in Python, such as `if`, `elif`, and `else`, allow the program to make decisions based on certain conditions. These statements let you execute different blocks of code depending on whether a condition is `True` or `False`.\n",
        "\n",
        "### 12. **How does the elif statement work?**\n",
        "\n",
        "**Ans-**\n",
        "\n",
        "   The `elif` (short for \"else if\") statement provides an alternative condition to check if the previous `if` or `elif` conditions were `False`. If the `elif` condition is `True`, its block of code will be executed. If it’s `False`, the program continues checking subsequent conditions or moves to the `else` block if provided.\n",
        "\n",
        "   Example:\n",
        "   ```python\n",
        "   x = 10\n",
        "   if x < 5:\n",
        "       print(\"x is less than 5\")\n",
        "   elif x == 10:\n",
        "       print(\"x is 10\")\n",
        "   else:\n",
        "       print(\"x is greater than 5\")\n",
        "   ```\n",
        "\n",
        "### 13. **What is the difference between for and while loops?**\n",
        "\n",
        "**Ans-**\n",
        "\n",
        "   - **For loop**: Used for iterating over a sequence (like a list, tuple, string, or range). It’s ideal when you know the number of iterations beforehand.\n",
        "   - **While loop**: Runs as long as a condition is `True`. It's useful when you don’t know beforehand how many iterations are needed, and the loop runs until a specific condition is met.\n",
        "\n",
        "### 14. **Describe a scenario where a while loop is more suitable than a for loop.**\n",
        "\n",
        "**Ans-**\n",
        "\n",
        "   A `while` loop is more suitable when you don’t know how many iterations are required beforehand. For example, when you are reading input from a user and need to keep asking for input until a valid value is provided:\n",
        "   \n",
        "   ```python\n",
        "   user_input = \"\"\n",
        "   while user_input != \"quit\":\n",
        "       user_input = input(\"Enter 'quit' to exit: \")\n",
        "   ```\n",
        "\n",
        "In this case, the number of iterations depends on the user’s input, making a `while` loop a better fit than a `for` loop."
      ],
      "metadata": {
        "id": "3lQZymrNaOh8"
      }
    },
    {
      "cell_type": "markdown",
      "source": [
        "*** Practical Questions***\n",
        "\n",
        "**1. Write a Python program to print \"Hello, World!**"
      ],
      "metadata": {
        "id": "4t9sCRQ3byum"
      }
    },
    {
      "cell_type": "code",
      "source": [
        "print(\"Hello, World!\")"
      ],
      "metadata": {
        "colab": {
          "base_uri": "https://localhost:8080/"
        },
        "id": "ZBZKO6LVb-8B",
        "outputId": "13ff7b38-4ca3-468f-c837-2972356689dc"
      },
      "execution_count": 20,
      "outputs": [
        {
          "output_type": "stream",
          "name": "stdout",
          "text": [
            "Hello, World!\n"
          ]
        }
      ]
    },
    {
      "cell_type": "markdown",
      "source": [
        "**2. Write a Python program that displays your name and age**"
      ],
      "metadata": {
        "id": "qhv6zYDLdJAe"
      }
    },
    {
      "cell_type": "code",
      "source": [
        "name = \"Rupam Banerjee\"\n",
        "age = 30\n",
        "print(f\"My name is {name} and I am {age} years old.\")"
      ],
      "metadata": {
        "colab": {
          "base_uri": "https://localhost:8080/"
        },
        "id": "fEnuIQQGdMlv",
        "outputId": "3bfcaed7-90b7-4393-d937-c0fcd43373bf"
      },
      "execution_count": 21,
      "outputs": [
        {
          "output_type": "stream",
          "name": "stdout",
          "text": [
            "My name is Rupam Banerjee and I am 30 years old.\n"
          ]
        }
      ]
    },
    {
      "cell_type": "markdown",
      "source": [
        "**3.  Write code to print all the pre-defined keywords in Python using the keyword library**"
      ],
      "metadata": {
        "id": "LlLWxGPJdhD_"
      }
    },
    {
      "cell_type": "code",
      "source": [
        "import keyword\n",
        "print(keyword.kwlist)"
      ],
      "metadata": {
        "colab": {
          "base_uri": "https://localhost:8080/"
        },
        "id": "28X3cDxtdmL5",
        "outputId": "92d2cf96-f737-4bad-99d0-ecde74e1d6ca"
      },
      "execution_count": 4,
      "outputs": [
        {
          "output_type": "stream",
          "name": "stdout",
          "text": [
            "['False', 'None', 'True', 'and', 'as', 'assert', 'async', 'await', 'break', 'class', 'continue', 'def', 'del', 'elif', 'else', 'except', 'finally', 'for', 'from', 'global', 'if', 'import', 'in', 'is', 'lambda', 'nonlocal', 'not', 'or', 'pass', 'raise', 'return', 'try', 'while', 'with', 'yield']\n"
          ]
        }
      ]
    },
    {
      "cell_type": "markdown",
      "source": [
        "**4. Write a program that checks if a given word is a Python keyword.**"
      ],
      "metadata": {
        "id": "TCyNykOgdu6a"
      }
    },
    {
      "cell_type": "code",
      "source": [
        "import keyword\n",
        "\n",
        "word = input(\"Enter a word to check if it's a Python keyword: \")\n",
        "\n",
        "if keyword.iskeyword(word):\n",
        "    print(f\"'{word}' is a Python keyword.\")\n",
        "else:\n",
        "    print(f\"'{word}' is not a Python keyword.\")"
      ],
      "metadata": {
        "colab": {
          "base_uri": "https://localhost:8080/"
        },
        "id": "v85ayyfad14k",
        "outputId": "6c551a44-3f71-48de-9528-c2787bcc051f"
      },
      "execution_count": 22,
      "outputs": [
        {
          "output_type": "stream",
          "name": "stdout",
          "text": [
            "Enter a word to check if it's a Python keyword: True\n",
            "'True' is a Python keyword.\n"
          ]
        }
      ]
    },
    {
      "cell_type": "markdown",
      "source": [
        "**5. Create a list and tuple in Python and demonstrate how attempting to change an element works differently\n",
        "for each.**"
      ],
      "metadata": {
        "id": "TABSpMz7exJS"
      }
    },
    {
      "cell_type": "code",
      "source": [
        "# Creating a list and tuple\n",
        "my_list = [1, 2, 3]\n",
        "my_tuple = (1, 2, 3)\n",
        "\n",
        "# Trying to change an element in the list\n",
        "my_list[0] = 10\n",
        "print(\"Modified list:\", my_list)\n",
        "\n",
        "# Trying to change an element in the tuple (will raise an error)\n",
        "try:\n",
        "    my_tuple[0] = 10\n",
        "except TypeError as e:\n",
        "    print(f\"Error: {e}\")"
      ],
      "metadata": {
        "colab": {
          "base_uri": "https://localhost:8080/"
        },
        "id": "jAg9TIOCe032",
        "outputId": "8fc6d1ea-6e48-47d7-b1e7-9b8c10a837be"
      },
      "execution_count": 23,
      "outputs": [
        {
          "output_type": "stream",
          "name": "stdout",
          "text": [
            "Modified list: [10, 2, 3]\n",
            "Error: 'tuple' object does not support item assignment\n"
          ]
        }
      ]
    },
    {
      "cell_type": "markdown",
      "source": [
        "**6.  Write a function to demonstrate the behavior of mutable and immutable arguments**"
      ],
      "metadata": {
        "id": "w7N64oyZfrRu"
      }
    },
    {
      "cell_type": "code",
      "source": [
        "def demonstrate_mutable_immutable(mutable_arg, immutable_arg):\n",
        "    print(\"Before modification:\")\n",
        "    print(f\"Mutable: {mutable_arg}, Immutable: {immutable_arg}\")\n",
        "\n",
        "    mutable_arg.append(4)  # Mutable argument (list)\n",
        "    immutable_arg += \" world\"  # Immutable argument (string)\n",
        "\n",
        "    print(\"After modification:\")\n",
        "    print(f\"Mutable: {mutable_arg}, Immutable: {immutable_arg}\")\n",
        "\n",
        "# Calling the function\n",
        "mutable_list = [1, 2, 3]\n",
        "immutable_string = \"Hello\"\n",
        "demonstrate_mutable_immutable(mutable_list, immutable_string)"
      ],
      "metadata": {
        "colab": {
          "base_uri": "https://localhost:8080/"
        },
        "id": "UHPDj5nEfynm",
        "outputId": "9d2c5a37-e891-417e-e07f-c557eaa8fbd2"
      },
      "execution_count": 8,
      "outputs": [
        {
          "output_type": "stream",
          "name": "stdout",
          "text": [
            "Before modification:\n",
            "Mutable: [1, 2, 3], Immutable: Hello\n",
            "After modification:\n",
            "Mutable: [1, 2, 3, 4], Immutable: Hello world\n"
          ]
        }
      ]
    },
    {
      "cell_type": "markdown",
      "source": [
        "**7.  Write a program to demonstrate the use of logical operators**"
      ],
      "metadata": {
        "id": "XSZrlxK-g5bn"
      }
    },
    {
      "cell_type": "code",
      "source": [
        "x = 5\n",
        "y = 10\n",
        "z = 15\n",
        "\n",
        "# Using logical operators\n",
        "print(f\"x < y and y < z: {x < y and y < z}\")\n",
        "print(f\"x > y or y < z: {x > y or y < z}\")\n",
        "print(f\"not x < y: {not x < y}\")"
      ],
      "metadata": {
        "colab": {
          "base_uri": "https://localhost:8080/"
        },
        "id": "CWr8ewhKg80T",
        "outputId": "8261cdc9-50bf-41f8-f386-f4e4694c5e24"
      },
      "execution_count": 10,
      "outputs": [
        {
          "output_type": "stream",
          "name": "stdout",
          "text": [
            "x < y and y < z: True\n",
            "x > y or y < z: True\n",
            "not x < y: False\n"
          ]
        }
      ]
    },
    {
      "cell_type": "markdown",
      "source": [
        "**8.  Write a Python program to convert user input from string to integer, float, and boolean types**"
      ],
      "metadata": {
        "id": "sz03zuo6htft"
      }
    },
    {
      "cell_type": "code",
      "source": [
        "user_input = input(\"Enter a value: \")\n",
        "\n",
        "# Convert to different types\n",
        "int_value = int(user_input)\n",
        "float_value = float(user_input)\n",
        "bool_value = bool(user_input)\n",
        "\n",
        "print(f\"String: {user_input}, Integer: {int_value}, Float: {float_value}, Boolean: {bool_value}\")\n"
      ],
      "metadata": {
        "colab": {
          "base_uri": "https://localhost:8080/"
        },
        "id": "ZsO-E79jhwhX",
        "outputId": "871c5f20-4215-4cc6-97c2-1707c1e82de6"
      },
      "execution_count": 12,
      "outputs": [
        {
          "output_type": "stream",
          "name": "stdout",
          "text": [
            "Enter a value: 25\n",
            "String: 25, Integer: 25, Float: 25.0, Boolean: True\n"
          ]
        }
      ]
    },
    {
      "cell_type": "markdown",
      "source": [
        "**9. Write code to demonstrate type casting with list elements**"
      ],
      "metadata": {
        "id": "ChpC4qK3iCwS"
      }
    },
    {
      "cell_type": "code",
      "source": [
        "my_list = [1, 2.5, \"3\"]\n",
        "\n",
        "# Type casting\n",
        "my_list[0] = float(my_list[0])\n",
        "my_list[1] = int(my_list[1])\n",
        "my_list[2] = int(my_list[2])\n",
        "\n",
        "print(f\"Modified list: {my_list}\")\n"
      ],
      "metadata": {
        "colab": {
          "base_uri": "https://localhost:8080/"
        },
        "id": "VBixrOCJiG-w",
        "outputId": "3a2cbb3b-f404-439a-bdc7-e9e53ec5313b"
      },
      "execution_count": 13,
      "outputs": [
        {
          "output_type": "stream",
          "name": "stdout",
          "text": [
            "Modified list: [1.0, 2, 3]\n"
          ]
        }
      ]
    },
    {
      "cell_type": "markdown",
      "source": [
        "**10. Write a program that checks if a number is positive, negative, or zero**"
      ],
      "metadata": {
        "id": "59tZ5iqhiYtT"
      }
    },
    {
      "cell_type": "code",
      "source": [
        "num = float(input(\"Enter a number: \"))\n",
        "\n",
        "if num > 0:\n",
        "    print(f\"{num} is positive.\")\n",
        "elif num < 0:\n",
        "    print(f\"{num} is negative.\")\n",
        "else:\n",
        "    print(\"The number is zero.\")"
      ],
      "metadata": {
        "colab": {
          "base_uri": "https://localhost:8080/"
        },
        "id": "AAUZ-SImicgG",
        "outputId": "077155cf-9773-4546-e4a2-f86978e9198c"
      },
      "execution_count": 14,
      "outputs": [
        {
          "output_type": "stream",
          "name": "stdout",
          "text": [
            "Enter a number: 34\n",
            "34.0 is positive.\n"
          ]
        }
      ]
    },
    {
      "cell_type": "markdown",
      "source": [
        "**11.  Write a for loop to print numbers from 1 to 10**"
      ],
      "metadata": {
        "id": "Ums7xypTiplo"
      }
    },
    {
      "cell_type": "code",
      "source": [
        "for i in range(1, 11):\n",
        "    print(i)"
      ],
      "metadata": {
        "colab": {
          "base_uri": "https://localhost:8080/"
        },
        "id": "oiQDez5NjHL0",
        "outputId": "8278ddc0-90c0-44b5-9c20-52800182efdb"
      },
      "execution_count": 15,
      "outputs": [
        {
          "output_type": "stream",
          "name": "stdout",
          "text": [
            "1\n",
            "2\n",
            "3\n",
            "4\n",
            "5\n",
            "6\n",
            "7\n",
            "8\n",
            "9\n",
            "10\n"
          ]
        }
      ]
    },
    {
      "cell_type": "markdown",
      "source": [
        "**12.  Write a Python program to find the sum of all even numbers between 1 and 50**"
      ],
      "metadata": {
        "id": "e3yN1buTjSbr"
      }
    },
    {
      "cell_type": "code",
      "source": [
        "sum_even = 0\n",
        "for i in range(1, 51):\n",
        "    if i % 2 == 0:\n",
        "        sum_even += i\n",
        "\n",
        "print(f\"The sum of all even numbers between 1 and 50 is: {sum_even}\")"
      ],
      "metadata": {
        "colab": {
          "base_uri": "https://localhost:8080/"
        },
        "id": "-tByzjCdjWYX",
        "outputId": "e5c3bd35-dad9-49c4-cfec-65892e9ce574"
      },
      "execution_count": 16,
      "outputs": [
        {
          "output_type": "stream",
          "name": "stdout",
          "text": [
            "The sum of all even numbers between 1 and 50 is: 650\n"
          ]
        }
      ]
    },
    {
      "cell_type": "markdown",
      "source": [
        "**13. Write a program to reverse a string using a while loop**"
      ],
      "metadata": {
        "id": "rS2F7cbfjddB"
      }
    },
    {
      "cell_type": "code",
      "source": [
        "string = input(\"Enter a string to reverse: \")\n",
        "reversed_string = \"\"\n",
        "index = len(string) - 1\n",
        "\n",
        "while index >= 0:\n",
        "    reversed_string += string[index]\n",
        "    index -= 1\n",
        "\n",
        "print(f\"Reversed string: {reversed_string}\")"
      ],
      "metadata": {
        "colab": {
          "base_uri": "https://localhost:8080/"
        },
        "id": "aehTYRl1jisQ",
        "outputId": "9d1c1e55-600d-4958-ba50-e62022b99bd8"
      },
      "execution_count": 17,
      "outputs": [
        {
          "output_type": "stream",
          "name": "stdout",
          "text": [
            "Enter a string to reverse: rupam\n",
            "Reversed string: mapur\n"
          ]
        }
      ]
    },
    {
      "cell_type": "markdown",
      "source": [
        "**14. Write a Python program to calculate the factorial of a number provided by the user using a while loop.**"
      ],
      "metadata": {
        "id": "X36RdOiwjxb3"
      }
    },
    {
      "cell_type": "code",
      "source": [
        "num = int(input(\"Enter a number to calculate its factorial: \"))\n",
        "factorial = 1\n",
        "while num > 1:\n",
        "    factorial *= num\n",
        "    num -= 1\n",
        "\n",
        "print(f\"The factorial is: {factorial}\")"
      ],
      "metadata": {
        "colab": {
          "base_uri": "https://localhost:8080/"
        },
        "id": "eXDIaZzej0kf",
        "outputId": "88d445c6-5f13-4f5c-fe8d-fc6fe9d4fa49"
      },
      "execution_count": 18,
      "outputs": [
        {
          "output_type": "stream",
          "name": "stdout",
          "text": [
            "Enter a number to calculate its factorial: 43\n",
            "The factorial is: 60415263063373835637355132068513997507264512000000000\n"
          ]
        }
      ]
    }
  ]
}